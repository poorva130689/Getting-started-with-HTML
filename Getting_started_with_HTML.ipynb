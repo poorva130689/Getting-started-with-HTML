{
  "nbformat": 4,
  "nbformat_minor": 0,
  "metadata": {
    "colab": {
      "provenance": []
    },
    "kernelspec": {
      "name": "python3",
      "display_name": "Python 3"
    },
    "language_info": {
      "name": "python"
    }
  },
  "cells": [
    {
      "cell_type": "code",
      "execution_count": null,
      "metadata": {
        "id": "ou3I2cweSI0r"
      },
      "outputs": [],
      "source": []
    },
    {
      "cell_type": "markdown",
      "source": [
        "# Getting started with HTML\n",
        "# 1.Write a simple program in HTML that displays the heading \"HTML defines the content and structure of your website on the web browser ?\n",
        "   - An HTML document is divided into two parts :\n",
        "   Head part - the title and metadata of a web document are contained in the head element.\n",
        "   Body part- the body element includes the formation that we wish to display on a web page."
      ],
      "metadata": {
        "id": "ZXmZMVRRSvR2"
      }
    },
    {
      "cell_type": "markdown",
      "source": [],
      "metadata": {
        "id": "cD4Piz4CZi5y"
      }
    },
    {
      "cell_type": "markdown",
      "source": [
        "2.Explain the purpose of comment in HTMLand provide an example of how to use comments in an HTMLdocument ?\n",
        "     - An HTML comments is used to add explanatory notes to the markup or to prevent the browser from interpreting specific parts of the document.\n",
        "     Example- <!--this is a comment-->\n",
        "\n",
        "     "
      ],
      "metadata": {
        "id": "g2mfTd1XZlYT"
      }
    },
    {
      "cell_type": "markdown",
      "source": [
        "3. Write an HTML program that includes a heading ,a paragraph of text, a horizontal line and a line break. Arrange these elements to creat a simple web page layout?\n",
        "       - <html>\n",
        "       <head>\n",
        "       <title> simple web page </title>\n",
        "       <body>\n",
        "       <h1>this is heading 1 </h1>\n",
        "       <p> this is a paragraph</p>\n",
        "       <hr>this is a horizontal line</hr>\n",
        "       <br>\n",
        "       \n",
        "   \n",
        "\n",
        "   "
      ],
      "metadata": {
        "id": "dM4lyI2BcdfP"
      }
    },
    {
      "cell_type": "markdown",
      "source": [
        "4. write a short note on Tag and element with an example?\n",
        "       - In HTML a tag is a marker that defines of conten's structure .\n",
        "       An element is the entire structure including the opening and closing tags and any content between them.\n",
        "       Example - the <html>tag indicates the start of an HTML document while the <p>tag marks the beginning of a paragraph elements."
      ],
      "metadata": {
        "id": "MYZZeMY5fvIa"
      }
    },
    {
      "cell_type": "markdown",
      "source": [
        "5. What is the <DOCTYPE> declaration in HTML?\n",
        "          - The <DOCTYPE>declaration represents the documents type and helps browsers to display web pages correctly.\n",
        "          It most appear only once ,at the top of the page."
      ],
      "metadata": {
        "id": "HMARpyXDjec8"
      }
    },
    {
      "cell_type": "code",
      "source": [],
      "metadata": {
        "id": "Pgg4te0BdvVY"
      },
      "execution_count": null,
      "outputs": []
    },
    {
      "cell_type": "code",
      "source": [],
      "metadata": {
        "id": "Rb-d8gUBdo-P"
      },
      "execution_count": null,
      "outputs": []
    },
    {
      "cell_type": "markdown",
      "source": [],
      "metadata": {
        "id": "ZtJvrUVPbzFJ"
      }
    },
    {
      "cell_type": "markdown",
      "source": [],
      "metadata": {
        "id": "Q-NprdtUcHlm"
      }
    },
    {
      "cell_type": "markdown",
      "source": [],
      "metadata": {
        "id": "OHdPX9tdargo"
      }
    }
  ]
}